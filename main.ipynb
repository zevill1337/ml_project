{
 "cells": [
  {
   "cell_type": "markdown",
   "metadata": {},
   "source": [
    "# Lab 1 - Git learn"
   ]
  },
  {
   "cell_type": "code",
   "execution_count": null,
   "metadata": {},
   "outputs": [],
   "source": [
    "#очень крутой код, но я не знаю как его запустить (гугл свяжитесь со мной)\n",
    "\n",
    "import os\n",
    "from dotenv import load_dotenv\n",
    "\n",
    "load_dotenv(dotenv_path='envs/params.env')\n",
    "\n",
    "TRAIN_DATA_URL = os.getenv('TRAIN_DATA_URL')\n",
    "TEST_DATA_URL = os.getenv('TEST_DATA_URL')\n",
    "TEST_SIZE = float(os.getenv('TEST_SIZE'))\n",
    "EPOCHS = int(os.getenv('EPOCHS'))\n",
    "MODEL_PARAMETR_1 = float(os.getenv('MODEL_PARAMETR_1'))"
   ]
  },
  {
   "cell_type": "code",
   "execution_count": null,
   "metadata": {},
   "outputs": [],
   "source": []
  }
 ],
 "metadata": {
  "kernelspec": {
   "display_name": "Python 3",
   "language": "python",
   "name": "python3"
  },
  "language_info": {
   "codemirror_mode": {
    "name": "ipython",
    "version": 3
   },
   "file_extension": ".py",
   "mimetype": "text/x-python",
   "name": "python",
   "nbconvert_exporter": "python",
   "pygments_lexer": "ipython3",
   "version": "3.10.11"
  }
 },
 "nbformat": 4,
 "nbformat_minor": 2
}
